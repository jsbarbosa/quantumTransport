{
 "cells": [
  {
   "cell_type": "code",
   "execution_count": 1,
   "metadata": {
    "collapsed": true
   },
   "outputs": [],
   "source": [
    "import numpy as np\n",
    "import sympy as spy\n",
    "import matplotlib.pyplot as plt\n",
    "\n",
    "spy.init_printing()"
   ]
  },
  {
   "cell_type": "code",
   "execution_count": 2,
   "metadata": {
    "collapsed": false
   },
   "outputs": [],
   "source": [
    "a, m, w, k, A = spy.symbols('a m \\omega k A', positive = True, real = True)\n",
    "\n",
    "x = spy.symbols('x')"
   ]
  },
  {
   "cell_type": "code",
   "execution_count": 3,
   "metadata": {
    "collapsed": false
   },
   "outputs": [],
   "source": [
    "F = A*(1 - (k*x)**2/2)\n",
    "FF = (F*F).integrate((x, -a, a))"
   ]
  },
  {
   "cell_type": "code",
   "execution_count": 4,
   "metadata": {
    "collapsed": false
   },
   "outputs": [
    {
     "data": {
      "image/png": "[encoded data removed]",
      "text/latex": [
       "$$\\frac{\\omega^{2} m}{2} \\left(- a^{2} + x^{2}\\right)$$"
      ],
      "text/plain": [
       "      2   ⎛   2    2⎞\n",
       "\\omega ⋅m⋅⎝- a  + x ⎠\n",
       "─────────────────────\n",
       "          2          "
      ]
     },
     "execution_count": 4,
     "metadata": {},
     "output_type": "execute_result"
    }
   ],
   "source": [
    "V = m*w**2*(x**2 - a**2)/2\n",
    "V"
   ]
  },
  {
   "cell_type": "code",
   "execution_count": 5,
   "metadata": {
    "collapsed": false
   },
   "outputs": [],
   "source": [
    "E = (F*V*F).integrate((x, -a, a)).simplify()\n",
    "E = (E/FF).simplify()"
   ]
  },
  {
   "cell_type": "code",
   "execution_count": 6,
   "metadata": {
    "collapsed": false
   },
   "outputs": [
    {
     "data": {
      "image/png": "[encoded data removed]",
      "text/latex": [
       "$$- \\frac{\\omega^{2} a^{2} m \\left(3 a^{4} k^{4} - 28 a^{2} k^{2} + 140\\right)}{21 a^{4} k^{4} - 140 a^{2} k^{2} + 420}$$"
      ],
      "text/plain": [
       "       2  2   ⎛   4  4       2  2      ⎞ \n",
       "-\\omega ⋅a ⋅m⋅⎝3⋅a ⋅k  - 28⋅a ⋅k  + 140⎠ \n",
       "─────────────────────────────────────────\n",
       "            4  4        2  2             \n",
       "        21⋅a ⋅k  - 140⋅a ⋅k  + 420       "
      ]
     },
     "execution_count": 6,
     "metadata": {},
     "output_type": "execute_result"
    }
   ],
   "source": [
    "E"
   ]
  },
  {
   "cell_type": "code",
   "execution_count": 7,
   "metadata": {
    "collapsed": false
   },
   "outputs": [],
   "source": [
    "dk = E.diff(k).simplify()\n",
    "eq = spy.Eq(0, dk)\n",
    "kv = spy.solve(eq, k)"
   ]
  },
  {
   "cell_type": "code",
   "execution_count": 8,
   "metadata": {
    "collapsed": false
   },
   "outputs": [
    {
     "data": {
      "image/png": "[encoded data removed]",
      "text/latex": [
       "$$\\frac{\\omega^{2} m}{35} a^{2} \\left(-10 + \\sqrt{30}\\right)$$"
      ],
      "text/plain": [
       "      2  2              \n",
       "\\omega ⋅a ⋅m⋅(-10 + √30)\n",
       "────────────────────────\n",
       "           35           "
      ]
     },
     "execution_count": 8,
     "metadata": {},
     "output_type": "execute_result"
    }
   ],
   "source": [
    "kv = kv[1]\n",
    "E.subs({k:kv}).simplify().simplify()"
   ]
  },
  {
   "cell_type": "code",
   "execution_count": 9,
   "metadata": {
    "collapsed": true
   },
   "outputs": [],
   "source": [
    "k, B = spy.symbols('k B', positive = True, real = True)"
   ]
  },
  {
   "cell_type": "code",
   "execution_count": 10,
   "metadata": {
    "collapsed": true
   },
   "outputs": [],
   "source": [
    "F = B*(k*x - (k*x)**3/6)\n",
    "FF = (F*F).integrate((x, -a, a)).simplify()"
   ]
  },
  {
   "cell_type": "code",
   "execution_count": 11,
   "metadata": {
    "collapsed": false
   },
   "outputs": [
    {
     "data": {
      "image/png": "[encoded data removed]",
      "text/latex": [
       "$$\\frac{B^{2} a^{3}}{630} k^{2} \\left(5 a^{4} k^{4} - 84 a^{2} k^{2} + 420\\right)$$"
      ],
      "text/plain": [
       " 2  3  2 ⎛   4  4       2  2      ⎞\n",
       "B ⋅a ⋅k ⋅⎝5⋅a ⋅k  - 84⋅a ⋅k  + 420⎠\n",
       "───────────────────────────────────\n",
       "                630                "
      ]
     },
     "execution_count": 11,
     "metadata": {},
     "output_type": "execute_result"
    }
   ],
   "source": [
    "FF"
   ]
  },
  {
   "cell_type": "code",
   "execution_count": 12,
   "metadata": {
    "collapsed": false
   },
   "outputs": [],
   "source": [
    "E = (F*V*F).integrate((x, -a, a)).simplify()\n",
    "E = (E/FF).simplify()"
   ]
  },
  {
   "cell_type": "code",
   "execution_count": 13,
   "metadata": {
    "collapsed": false
   },
   "outputs": [],
   "source": [
    "dk = E.diff(k).simplify()\n",
    "eq = spy.Eq(0, dk)\n",
    "kv = spy.solve(eq, k)"
   ]
  },
  {
   "cell_type": "code",
   "execution_count": 14,
   "metadata": {
    "collapsed": false
   },
   "outputs": [
    {
     "data": {
      "image/png": "[encoded data removed]",
      "text/latex": [
       "$$- \\frac{16 \\omega^{2} a^{4} k m \\left(5 a^{4} k^{4} - 140 a^{2} k^{2} + 756\\right)}{75 a^{8} k^{8} - 2520 a^{6} k^{6} + 33768 a^{4} k^{4} - 211680 a^{2} k^{2} + 529200}$$"
      ],
      "text/plain": [
       "                2  4     ⎛   4  4        2  2      ⎞       \n",
       "      -16⋅\\omega ⋅a ⋅k⋅m⋅⎝5⋅a ⋅k  - 140⋅a ⋅k  + 756⎠       \n",
       "───────────────────────────────────────────────────────────\n",
       "    8  8         6  6          4  4           2  2         \n",
       "75⋅a ⋅k  - 2520⋅a ⋅k  + 33768⋅a ⋅k  - 211680⋅a ⋅k  + 529200"
      ]
     },
     "execution_count": 14,
     "metadata": {},
     "output_type": "execute_result"
    }
   ],
   "source": [
    "dk.simplify()"
   ]
  },
  {
   "cell_type": "code",
   "execution_count": 15,
   "metadata": {
    "collapsed": false
   },
   "outputs": [
    {
     "data": {
      "image/png": "[encoded data removed]",
      "text/latex": [
       "$$\\frac{\\omega^{2} m}{63} a^{2} \\left(-14 + \\sqrt{70}\\right)$$"
      ],
      "text/plain": [
       "      2  2              \n",
       "\\omega ⋅a ⋅m⋅(-14 + √70)\n",
       "────────────────────────\n",
       "           63           "
      ]
     },
     "execution_count": 15,
     "metadata": {},
     "output_type": "execute_result"
    }
   ],
   "source": [
    "kv = kv[1]\n",
    "E.subs({k:kv}).simplify().simplify()"
   ]
  }
 ],
 "metadata": {
  "anaconda-cloud": {},
  "kernelspec": {
   "display_name": "Python [default]",
   "language": "python",
   "name": "python3"
  },
  "language_info": {
   "codemirror_mode": {
    "name": "ipython",
    "version": 3
   },
   "file_extension": ".py",
   "mimetype": "text/x-python",
   "name": "python",
   "nbconvert_exporter": "python",
   "pygments_lexer": "ipython3",
   "version": "3.4.4"
  }
 },
 "nbformat": 4,
 "nbformat_minor": 2
}
