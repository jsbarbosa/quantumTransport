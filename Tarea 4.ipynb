{
 "cells": [
  {
   "cell_type": "code",
   "execution_count": 1,
   "metadata": {
    "collapsed": true
   },
   "outputs": [],
   "source": [
    "import numpy as np\n",
    "import sympy as spy\n",
    "import matplotlib.pyplot as plt\n",
    "from IPython.display import display\n",
    "spy.init_printing()"
   ]
  },
  {
   "cell_type": "code",
   "execution_count": 2,
   "metadata": {
    "collapsed": false
   },
   "outputs": [],
   "source": [
    "a, m, w, k, A = spy.symbols('a m \\omega k A', positive = True, real = True)\n",
    "\n",
    "x = spy.symbols('x')"
   ]
  },
  {
   "cell_type": "code",
   "execution_count": 3,
   "metadata": {
    "collapsed": false
   },
   "outputs": [],
   "source": [
    "F = A*(1 - (k*x)**2/2)\n",
    "FF = (F*F).integrate((x, -a, a))"
   ]
  },
  {
   "cell_type": "code",
   "execution_count": 4,
   "metadata": {
    "collapsed": false
   },
   "outputs": [
    {
     "data": {
      "image/png": "[encoded data removed]",
      "text/latex": [
       "$$\\frac{\\omega^{2} m}{2} \\left(- a^{2} + x^{2}\\right)$$"
      ],
      "text/plain": [
       "      2   ⎛   2    2⎞\n",
       "\\omega ⋅m⋅⎝- a  + x ⎠\n",
       "─────────────────────\n",
       "          2          "
      ]
     },
     "execution_count": 4,
     "metadata": {},
     "output_type": "execute_result"
    }
   ],
   "source": [
    "V = m*w**2*(x**2 - a**2)/2\n",
    "V"
   ]
  },
  {
   "cell_type": "code",
   "execution_count": 5,
   "metadata": {
    "collapsed": false
   },
   "outputs": [],
   "source": [
    "E = (F*V*F).integrate((x, -a, a)).simplify()\n",
    "E = (E/FF).simplify()"
   ]
  },
  {
   "cell_type": "code",
   "execution_count": 6,
   "metadata": {
    "collapsed": false
   },
   "outputs": [
    {
     "data": {
      "image/png": "[encoded data removed]",
      "text/latex": [
       "$$- \\frac{\\omega^{2} a^{2} m \\left(3 a^{4} k^{4} - 28 a^{2} k^{2} + 140\\right)}{21 a^{4} k^{4} - 140 a^{2} k^{2} + 420}$$"
      ],
      "text/plain": [
       "       2  2   ⎛   4  4       2  2      ⎞ \n",
       "-\\omega ⋅a ⋅m⋅⎝3⋅a ⋅k  - 28⋅a ⋅k  + 140⎠ \n",
       "─────────────────────────────────────────\n",
       "            4  4        2  2             \n",
       "        21⋅a ⋅k  - 140⋅a ⋅k  + 420       "
      ]
     },
     "execution_count": 6,
     "metadata": {},
     "output_type": "execute_result"
    }
   ],
   "source": [
    "E"
   ]
  },
  {
   "cell_type": "code",
   "execution_count": 7,
   "metadata": {
    "collapsed": false
   },
   "outputs": [],
   "source": [
    "dk = E.diff(k).simplify()\n",
    "eq = spy.Eq(0, dk)\n",
    "kv = spy.solve(eq, k)"
   ]
  },
  {
   "cell_type": "code",
   "execution_count": 8,
   "metadata": {
    "collapsed": false
   },
   "outputs": [
    {
     "data": {
      "image/png": "[encoded data removed]",
      "text/latex": [
       "$$\\frac{\\omega^{2} m}{35} a^{2} \\left(-10 + \\sqrt{30}\\right)$$"
      ],
      "text/plain": [
       "      2  2              \n",
       "\\omega ⋅a ⋅m⋅(-10 + √30)\n",
       "────────────────────────\n",
       "           35           "
      ]
     },
     "execution_count": 8,
     "metadata": {},
     "output_type": "execute_result"
    }
   ],
   "source": [
    "kv = kv[1]\n",
    "E.subs({k:kv}).simplify().simplify()"
   ]
  },
  {
   "cell_type": "code",
   "execution_count": 9,
   "metadata": {
    "collapsed": true
   },
   "outputs": [],
   "source": [
    "k, B = spy.symbols('k B', positive = True, real = True)"
   ]
  },
  {
   "cell_type": "code",
   "execution_count": 10,
   "metadata": {
    "collapsed": true
   },
   "outputs": [],
   "source": [
    "F = B*(k*x - (k*x)**3/6)\n",
    "FF = (F*F).integrate((x, -a, a)).simplify()"
   ]
  },
  {
   "cell_type": "code",
   "execution_count": 11,
   "metadata": {
    "collapsed": false
   },
   "outputs": [
    {
     "data": {
      "image/png": "[encoded data removed]",
      "text/latex": [
       "$$\\frac{B^{2} a^{3}}{630} k^{2} \\left(5 a^{4} k^{4} - 84 a^{2} k^{2} + 420\\right)$$"
      ],
      "text/plain": [
       " 2  3  2 ⎛   4  4       2  2      ⎞\n",
       "B ⋅a ⋅k ⋅⎝5⋅a ⋅k  - 84⋅a ⋅k  + 420⎠\n",
       "───────────────────────────────────\n",
       "                630                "
      ]
     },
     "execution_count": 11,
     "metadata": {},
     "output_type": "execute_result"
    }
   ],
   "source": [
    "FF"
   ]
  },
  {
   "cell_type": "code",
   "execution_count": 12,
   "metadata": {
    "collapsed": false
   },
   "outputs": [],
   "source": [
    "E = (F*V*F).integrate((x, -a, a)).simplify()\n",
    "E = (E/FF).simplify()"
   ]
  },
  {
   "cell_type": "code",
   "execution_count": 13,
   "metadata": {
    "collapsed": false
   },
   "outputs": [],
   "source": [
    "dk = E.diff(k).simplify()\n",
    "eq = spy.Eq(0, dk)\n",
    "kv = spy.solve(eq, k)"
   ]
  },
  {
   "cell_type": "code",
   "execution_count": 14,
   "metadata": {
    "collapsed": false
   },
   "outputs": [
    {
     "data": {
      "image/png": "[encoded data removed]",
      "text/latex": [
       "$$- \\frac{16 \\omega^{2} a^{4} k m \\left(5 a^{4} k^{4} - 140 a^{2} k^{2} + 756\\right)}{75 a^{8} k^{8} - 2520 a^{6} k^{6} + 33768 a^{4} k^{4} - 211680 a^{2} k^{2} + 529200}$$"
      ],
      "text/plain": [
       "                2  4     ⎛   4  4        2  2      ⎞       \n",
       "      -16⋅\\omega ⋅a ⋅k⋅m⋅⎝5⋅a ⋅k  - 140⋅a ⋅k  + 756⎠       \n",
       "───────────────────────────────────────────────────────────\n",
       "    8  8         6  6          4  4           2  2         \n",
       "75⋅a ⋅k  - 2520⋅a ⋅k  + 33768⋅a ⋅k  - 211680⋅a ⋅k  + 529200"
      ]
     },
     "execution_count": 14,
     "metadata": {},
     "output_type": "execute_result"
    }
   ],
   "source": [
    "dk.simplify()"
   ]
  },
  {
   "cell_type": "code",
   "execution_count": 15,
   "metadata": {
    "collapsed": false
   },
   "outputs": [
    {
     "data": {
      "image/png": "[encoded data removed]",
      "text/latex": [
       "$$\\frac{\\omega^{2} m}{63} a^{2} \\left(-14 + \\sqrt{70}\\right)$$"
      ],
      "text/plain": [
       "      2  2              \n",
       "\\omega ⋅a ⋅m⋅(-14 + √70)\n",
       "────────────────────────\n",
       "           63           "
      ]
     },
     "execution_count": 15,
     "metadata": {},
     "output_type": "execute_result"
    }
   ],
   "source": [
    "kv = kv[1]\n",
    "E.subs({k:kv}).simplify().simplify()"
   ]
  },
  {
   "cell_type": "markdown",
   "metadata": {},
   "source": [
    "## Punto b"
   ]
  },
  {
   "cell_type": "code",
   "execution_count": 16,
   "metadata": {
    "collapsed": true
   },
   "outputs": [],
   "source": [
    "a, m, w, n, h = spy.symbols('a m \\omega n \\hbar', positive = True, real = True)\n",
    "x, E = spy.symbols('x E', real = True)"
   ]
  },
  {
   "cell_type": "code",
   "execution_count": 17,
   "metadata": {
    "collapsed": false
   },
   "outputs": [],
   "source": [
    "sqrt = spy.sqrt(2*m*E + m**2*w**2*a**2)\n",
    "beta = spy.sqrt(m**2*w**2)/sqrt\n",
    "P = sqrt*(1-beta**2*x**2/2)\n",
    "integral = P.integrate((x, -a, a)).simplify()"
   ]
  },
  {
   "cell_type": "code",
   "execution_count": 18,
   "metadata": {
    "collapsed": false
   },
   "outputs": [
    {
     "data": {
      "image/png": "[encoded data removed]",
      "text/latex": [
       "$$\\frac{a \\sqrt{m} \\left(12 E + 5 \\omega^{2} a^{2} m\\right)}{3 \\sqrt{2 E + \\omega^{2} a^{2} m}}$$"
      ],
      "text/plain": [
       "     ⎛               2  2  ⎞\n",
       "a⋅√m⋅⎝12⋅E + 5⋅\\omega ⋅a ⋅m⎠\n",
       "────────────────────────────\n",
       "      ____________________  \n",
       "     ╱             2  2     \n",
       " 3⋅╲╱  2⋅E + \\omega ⋅a ⋅m   "
      ]
     },
     "execution_count": 18,
     "metadata": {},
     "output_type": "execute_result"
    }
   ],
   "source": [
    "integral"
   ]
  },
  {
   "cell_type": "code",
   "execution_count": 19,
   "metadata": {
    "collapsed": false
   },
   "outputs": [],
   "source": [
    "eq = spy.Eq(n*h + h/2, integral)"
   ]
  },
  {
   "cell_type": "code",
   "execution_count": 20,
   "metadata": {
    "collapsed": false
   },
   "outputs": [],
   "source": [
    "sols = spy.solve(eq, E)"
   ]
  },
  {
   "cell_type": "code",
   "execution_count": 21,
   "metadata": {
    "collapsed": false
   },
   "outputs": [
    {
     "data": {
      "image/png": "[encoded data removed]",
      "text/latex": [
       "$$\\frac{1}{a^{2} m} \\left(\\frac{\\hbar^{2} n^{2}}{16} + \\frac{\\hbar^{2} n}{16} + \\frac{\\hbar^{2}}{64} - \\frac{\\hbar}{192} \\left(2 n + 1\\right) \\sqrt{36 \\hbar^{2} n^{2} + 36 \\hbar^{2} n + 9 \\hbar^{2} + 96 \\omega^{2} a^{4} m^{2}} - \\frac{5 \\omega^{2}}{12} a^{4} m^{2}\\right)$$"
      ],
      "text/plain": [
       "                                           ___________________________________\n",
       "   2  2      2        2                   ╱       2  2         2          2   \n",
       "\\h̅ ⋅n    \\h̅ ⋅n   \\h̅    \\h̅⋅(2⋅n + 1)⋅╲╱  36⋅\\h̅ ⋅n  + 36⋅\\h̅ ⋅n + 9⋅\\h̅  + \n",
       "─────── + ────── + ──── - ────────────────────────────────────────────────────\n",
       "   16       16      64                                     192                \n",
       "──────────────────────────────────────────────────────────────────────────────\n",
       "                                                        2                     \n",
       "                                                       a ⋅m                   \n",
       "\n",
       "_________________                  \n",
       "         2  4  2            2  4  2\n",
       "96⋅\\omega ⋅a ⋅m     5⋅\\omega ⋅a ⋅m \n",
       "───────────────── - ───────────────\n",
       "                           12      \n",
       "───────────────────────────────────\n",
       "                                   \n",
       "                                   "
      ]
     },
     "metadata": {},
     "output_type": "display_data"
    },
    {
     "name": "stdout",
     "output_type": "stream",
     "text": [
      "=================================\n"
     ]
    },
    {
     "data": {
      "image/png": "[encoded data removed]",
      "text/latex": [
       "$$\\frac{1}{a^{2} m} \\left(\\frac{\\hbar^{2} n^{2}}{16} + \\frac{\\hbar^{2} n}{16} + \\frac{\\hbar^{2}}{64} + \\frac{\\hbar}{192} \\left(2 n + 1\\right) \\sqrt{36 \\hbar^{2} n^{2} + 36 \\hbar^{2} n + 9 \\hbar^{2} + 96 \\omega^{2} a^{4} m^{2}} - \\frac{5 \\omega^{2}}{12} a^{4} m^{2}\\right)$$"
      ],
      "text/plain": [
       "                                           ___________________________________\n",
       "   2  2      2        2                   ╱       2  2         2          2   \n",
       "\\h̅ ⋅n    \\h̅ ⋅n   \\h̅    \\h̅⋅(2⋅n + 1)⋅╲╱  36⋅\\h̅ ⋅n  + 36⋅\\h̅ ⋅n + 9⋅\\h̅  + \n",
       "─────── + ────── + ──── + ────────────────────────────────────────────────────\n",
       "   16       16      64                                     192                \n",
       "──────────────────────────────────────────────────────────────────────────────\n",
       "                                                        2                     \n",
       "                                                       a ⋅m                   \n",
       "\n",
       "_________________                  \n",
       "         2  4  2            2  4  2\n",
       "96⋅\\omega ⋅a ⋅m     5⋅\\omega ⋅a ⋅m \n",
       "───────────────── - ───────────────\n",
       "                           12      \n",
       "───────────────────────────────────\n",
       "                                   \n",
       "                                   "
      ]
     },
     "metadata": {},
     "output_type": "display_data"
    },
    {
     "name": "stdout",
     "output_type": "stream",
     "text": [
      "=================================\n"
     ]
    }
   ],
   "source": [
    "for sol in sols:\n",
    "    temp = sol.simplify()\n",
    "    display(temp)\n",
    "    print(\"=================================\")"
   ]
  },
  {
   "cell_type": "code",
   "execution_count": 22,
   "metadata": {
    "collapsed": false
   },
   "outputs": [],
   "source": [
    "left = a**2*m*((12*E + 5*m*w**2*a**2)**2).expand()"
   ]
  },
  {
   "cell_type": "code",
   "execution_count": 23,
   "metadata": {
    "collapsed": false
   },
   "outputs": [],
   "source": [
    "b = ((n + 0.5)**2).expand()"
   ]
  },
  {
   "cell_type": "code",
   "execution_count": 24,
   "metadata": {
    "collapsed": false
   },
   "outputs": [],
   "source": [
    "right = h**2*(b*(2*E + w**2*a**2*m)).expand()"
   ]
  },
  {
   "cell_type": "code",
   "execution_count": 25,
   "metadata": {
    "collapsed": false
   },
   "outputs": [
    {
     "data": {
      "image/png": "[encoded data removed]",
      "text/latex": [
       "$$144 E^{2} a^{2} m - 2 E \\hbar^{2} n^{2} - 2.0 E \\hbar^{2} n - 0.5 E \\hbar^{2} + 120 E \\omega^{2} a^{4} m^{2} - \\hbar^{2} \\omega^{2} a^{2} m n^{2} - 1.0 \\hbar^{2} \\omega^{2} a^{2} m n - 0.25 \\hbar^{2} \\omega^{2} a^{2} m + 25 \\omega^{4} a^{6} m^{3}$$"
      ],
      "text/plain": [
       "     2  2            2  2            2              2               2  4  2   \n",
       "144⋅E ⋅a ⋅m - 2⋅E⋅\\h̅ ⋅n  - 2.0⋅E⋅\\h̅ ⋅n - 0.5⋅E⋅\\h̅  + 120⋅E⋅\\omega ⋅a ⋅m  - \n",
       "\n",
       "   2       2  2    2          2       2  2               2       2  2         \n",
       "\\h̅ ⋅\\omega ⋅a ⋅m⋅n  - 1.0⋅\\h̅ ⋅\\omega ⋅a ⋅m⋅n - 0.25⋅\\h̅ ⋅\\omega ⋅a ⋅m + 25⋅\\\n",
       "\n",
       "     4  6  3\n",
       "omega ⋅a ⋅m "
      ]
     },
     "execution_count": 25,
     "metadata": {},
     "output_type": "execute_result"
    }
   ],
   "source": [
    "(left - right).expand().simplify()"
   ]
  }
 ],
 "metadata": {
  "anaconda-cloud": {},
  "kernelspec": {
   "display_name": "Python [default]",
   "language": "python",
   "name": "python3"
  },
  "language_info": {
   "codemirror_mode": {
    "name": "ipython",
    "version": 3
   },
   "file_extension": ".py",
   "mimetype": "text/x-python",
   "name": "python",
   "nbconvert_exporter": "python",
   "pygments_lexer": "ipython3",
   "version": "3.4.4"
  }
 },
 "nbformat": 4,
 "nbformat_minor": 2
}
